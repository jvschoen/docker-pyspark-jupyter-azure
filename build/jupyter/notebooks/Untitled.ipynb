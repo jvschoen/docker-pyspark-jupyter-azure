{
 "cells": [
  {
   "cell_type": "markdown",
   "id": "4309c820-743b-4b04-be04-cfe57d488209",
   "metadata": {},
   "source": [
    "# Resources"
   ]
  },
  {
   "cell_type": "markdown",
   "id": "ee67dee1-9814-4cd5-b4d0-d0396738c9cb",
   "metadata": {},
   "source": [
    "* Set up secure server:\n",
    "https://jupyter-notebook.readthedocs.io/en/stable/public_server.html\n",
    "* pyspark notebook Dockerfile https://github.com/jupyter/docker-stacks/blob/master/pyspark-notebook/Dockerfile\n",
    "* Make with docker-compose: https://medium.com/freestoneinfotech/simplifying-docker-compose-operations-using-makefile-26d451456d63"
   ]
  },
  {
   "cell_type": "code",
   "execution_count": null,
   "id": "8b906d6c-aa3c-4645-901e-99c799d8a276",
   "metadata": {},
   "outputs": [],
   "source": []
  },
  {
   "cell_type": "code",
   "execution_count": null,
   "id": "9ceef061-3865-4e0f-8776-e4fc33b476b5",
   "metadata": {},
   "outputs": [],
   "source": []
  }
 ],
 "metadata": {
  "kernelspec": {
   "display_name": "Python 3 (ipykernel)",
   "language": "python",
   "name": "python3"
  },
  "language_info": {
   "codemirror_mode": {
    "name": "ipython",
    "version": 3
   },
   "file_extension": ".py",
   "mimetype": "text/x-python",
   "name": "python",
   "nbconvert_exporter": "python",
   "pygments_lexer": "ipython3",
   "version": "3.9.10"
  }
 },
 "nbformat": 4,
 "nbformat_minor": 5
}
